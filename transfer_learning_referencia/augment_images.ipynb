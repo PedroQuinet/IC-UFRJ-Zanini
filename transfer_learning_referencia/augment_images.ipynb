{
 "cells": [
  {
   "cell_type": "code",
   "execution_count": 2,
   "metadata": {},
   "outputs": [],
   "source": [
    "from PIL import Image\n",
    "import os\n",
    "import numpy as np\n",
    "import tensorflow as tf\n",
    "import pandas as pd"
   ]
  },
  {
   "cell_type": "code",
   "execution_count": 7,
   "metadata": {},
   "outputs": [],
   "source": [
    "IMAGE_SIZES = [100, 100]"
   ]
  },
  {
   "cell_type": "code",
   "execution_count": 4,
   "metadata": {},
   "outputs": [],
   "source": [
    "# reads all images in filepath, resizes it according with 2D list img_sizes and \n",
    "# store them in a np_array. The string filepath can only contain images (no other\n",
    "# file types such as txt for example are allowed). \n",
    "# It works only for RGB images.\n",
    "def images_to_np_array(filepath, img_sizes):\n",
    "    \"\"\"\n",
    "    This function reads all imagens in a given folder, resizes them and stores them in a numpy array.\n",
    "\n",
    "    Parameters:\n",
    "    filepath (str): The path to the folder containing the images.\n",
    "    img_sizes (list): A list containing the desired height and width of the images.\n",
    "\n",
    "    Returns:\n",
    "    np.ndarray: A numpy array containing all the images resized to the specified dimensions.\n",
    "    \"\"\"\n",
    "    \n",
    "    list_of_files = []\n",
    "\n",
    "    for dirpath, _, filenames in os.walk(filepath):\n",
    "        for f in filenames:\n",
    "            full_path = os.path.join(dirpath, f)\n",
    "            list_of_files.append(full_path)\n",
    "\n",
    "    # number of image files\n",
    "    n_images = len(list_of_files)\n",
    "\n",
    "    # create np_array to store all images\n",
    "    array_images = np.zeros((n_images, img_sizes[1], img_sizes[0], 3), dtype=np.uint8)\n",
    "\n",
    "    for index, image_path in enumerate(list_of_files):\n",
    "        with Image.open(image_path) as img:\n",
    "            img_rgb = img.convert('RGB')\n",
    "            img_resized = img_rgb.resize(img_sizes)\n",
    "            array_images[index] = np.asarray(img_resized)\n",
    "\n",
    "    return array_images\n",
    "\n"
   ]
  },
  {
   "cell_type": "code",
   "execution_count": null,
   "metadata": {},
   "outputs": [],
   "source": [
    "# read capivaras in training set\n",
    "capivara_train = images_to_np_array(filepath = \"./capivara_train\", img_sizes = IMAGE_SIZES)\n",
    "\n",
    "# read dunkies in the training\n",
    "burro_train = images_to_np_array(filepath = \"./burro_train\", img_sizes = IMAGE_SIZES)\n"
   ]
  },
  {
   "cell_type": "code",
   "execution_count": 8,
   "metadata": {},
   "outputs": [],
   "source": [
    "from tensorflow.keras.preprocessing.image import ImageDataGenerator\n",
    "\n",
    "datagen = ImageDataGenerator(\n",
    "        rotation_range=40,\n",
    "        width_shift_range=0.2,\n",
    "        height_shift_range=0.2,\n",
    "        shear_range=0.2,\n",
    "        zoom_range=0.2,\n",
    "        horizontal_flip=True,\n",
    "        fill_mode='nearest')\n",
    "\n"
   ]
  },
  {
   "cell_type": "code",
   "execution_count": 10,
   "metadata": {},
   "outputs": [],
   "source": [
    "# the .flow() command below generates batches of randomly transformed images\n",
    "# and saves the results to the `burro_augmented/` directory\n",
    "i = 0\n",
    "for batch in datagen.flow(burro_train, batch_size=1,\n",
    "                          save_to_dir='burro_augmented', save_prefix='burro', save_format='jpeg'):\n",
    "    i += 1\n",
    "    if i > 1000:\n",
    "        break  # otherwise the generator would loop indefinitely\n"
   ]
  },
  {
   "cell_type": "code",
   "execution_count": 11,
   "metadata": {},
   "outputs": [],
   "source": [
    "# the .flow() command below generates batches of randomly transformed images\n",
    "# and saves the results to the `burro_augmented/` directory\n",
    "i = 0\n",
    "for batch in datagen.flow(capivara_train, batch_size=1,\n",
    "                          save_to_dir='capivara_augmented', save_prefix='capivara', save_format='jpeg'):\n",
    "    i += 1\n",
    "    if i > 2000:\n",
    "        break  # otherwise the generator would loop indefinitely\n"
   ]
  }
 ],
 "metadata": {
  "kernelspec": {
   "display_name": ".venv",
   "language": "python",
   "name": "python3"
  },
  "language_info": {
   "codemirror_mode": {
    "name": "ipython",
    "version": 3
   },
   "file_extension": ".py",
   "mimetype": "text/x-python",
   "name": "python",
   "nbconvert_exporter": "python",
   "pygments_lexer": "ipython3",
   "version": "3.12.5"
  },
  "orig_nbformat": 4
 },
 "nbformat": 4,
 "nbformat_minor": 2
}
