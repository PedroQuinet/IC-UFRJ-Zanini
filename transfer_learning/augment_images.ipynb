{
 "cells": [
  {
   "cell_type": "code",
   "execution_count": null,
   "metadata": {},
   "outputs": [],
   "source": [
    "from PIL import Image\n",
    "import os\n",
    "import numpy as np\n",
    "import tensorflow as tf\n",
    "import pandas as pd"
   ]
  },
  {
   "cell_type": "code",
   "execution_count": null,
   "metadata": {},
   "outputs": [],
   "source": [
    "IMAGE_SIZES = [100, 100]"
   ]
  },
  {
   "cell_type": "code",
   "execution_count": null,
   "metadata": {},
   "outputs": [],
   "source": [
    "# reads all images in filepath, resizes it according with 2D list img_sizes and \n",
    "# store them in a np_array. The string filepath can only contain images (no other\n",
    "# file types such as txt for example are allowed). \n",
    "# It works only for RGB images.\n",
    "def images_to_np_array(filepath, img_sizes):\n",
    "    #-----------------------------------------------------------------------------\n",
    "    # Args:\n",
    "    #     filepath:  String with the path to the directory containing the images.\n",
    "    #                It CANNOT end with the / character.\n",
    "    #     img_sizes: 2D array [num_rows, num_columns].\n",
    "    #-----------------------------------------------------------------------------\n",
    "\n",
    "    # list all files in filepath\n",
    "    list_of_files = [file for file in os.listdir(filepath)]\n",
    "\n",
    "    # number of image files\n",
    "    n_images = len(list_of_files)\n",
    "\n",
    "    # create np_array to store all images\n",
    "    array_images = np.zeros([n_images, IMAGE_SIZES[0], IMAGE_SIZES[1], 3])\n",
    "\n",
    "    for index in range( n_images ):\n",
    "\n",
    "        # get file name   \n",
    "        file_name = list_of_files[index]\n",
    "\n",
    "        # Open the image form working directory\n",
    "        image = Image.open(filepath + '/' + file_name)\n",
    "\n",
    "        # resize image\n",
    "        image_resized = image.resize(IMAGE_SIZES)\n",
    "\n",
    "        # convert it to numpy\n",
    "        np_image = np.asarray(image_resized)\n",
    "        array_images[index,:,:,:] = np_image\n",
    "\n",
    "    return array_images\n",
    "\n"
   ]
  },
  {
   "cell_type": "code",
   "execution_count": null,
   "metadata": {},
   "outputs": [],
   "source": [
    "# read capivaras in training set\n",
    "capivara_train = images_to_np_array(filepath = \"./capivara_train\", img_sizes = IMAGE_SIZES)\n",
    "\n",
    "# read dunkies in the training\n",
    "burro_train = images_to_np_array(filepath = \"./burro_train\", img_sizes = IMAGE_SIZES)\n"
   ]
  },
  {
   "cell_type": "code",
   "execution_count": null,
   "metadata": {},
   "outputs": [],
   "source": [
    "from keras.preprocessing.image import ImageDataGenerator\n",
    "\n",
    "datagen = ImageDataGenerator(\n",
    "        rotation_range=40,\n",
    "        width_shift_range=0.2,\n",
    "        height_shift_range=0.2,\n",
    "        shear_range=0.2,\n",
    "        zoom_range=0.2,\n",
    "        horizontal_flip=True,\n",
    "        fill_mode='nearest')\n",
    "\n"
   ]
  },
  {
   "cell_type": "code",
   "execution_count": null,
   "metadata": {},
   "outputs": [],
   "source": [
    "# the .flow() command below generates batches of randomly transformed images\n",
    "# and saves the results to the `burro_augmented/` directory\n",
    "i = 0\n",
    "for batch in datagen.flow(burro_train, batch_size=1,\n",
    "                          save_to_dir='burro_augmented', save_prefix='burro', save_format='jpeg'):\n",
    "    i += 1\n",
    "    if i > 1000:\n",
    "        break  # otherwise the generator would loop indefinitely\n"
   ]
  },
  {
   "cell_type": "code",
   "execution_count": null,
   "metadata": {},
   "outputs": [],
   "source": [
    "# the .flow() command below generates batches of randomly transformed images\n",
    "# and saves the results to the `burro_augmented/` directory\n",
    "i = 0\n",
    "for batch in datagen.flow(capivara_train, batch_size=1,\n",
    "                          save_to_dir='capivara_augmented', save_prefix='capivara', save_format='jpeg'):\n",
    "    i += 1\n",
    "    if i > 2000:\n",
    "        break  # otherwise the generator would loop indefinitely\n"
   ]
  }
 ],
 "metadata": {
  "kernelspec": {
   "display_name": "Python 3.8.10 64-bit",
   "language": "python",
   "name": "python3"
  },
  "language_info": {
   "codemirror_mode": {
    "name": "ipython",
    "version": 3
   },
   "file_extension": ".py",
   "mimetype": "text/x-python",
   "name": "python",
   "nbconvert_exporter": "python",
   "pygments_lexer": "ipython3",
   "version": "3.8.10"
  },
  "orig_nbformat": 4,
  "vscode": {
   "interpreter": {
    "hash": "916dbcbb3f70747c44a77c7bcd40155683ae19c65e1c03b4aa3499c5328201f1"
   }
  }
 },
 "nbformat": 4,
 "nbformat_minor": 2
}
